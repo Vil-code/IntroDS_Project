{
 "cells": [
  {
   "cell_type": "code",
   "execution_count": 2,
   "metadata": {},
   "outputs": [
    {
     "name": "stdout",
     "output_type": "stream",
     "text": [
      " * Serving Flask app '__main__'\n",
      " * Debug mode: off\n"
     ]
    },
    {
     "name": "stderr",
     "output_type": "stream",
     "text": [
      "Address already in use\n",
      "Port 5000 is in use by another program. Either identify and stop that program, or start the server with a different port.\n",
      "On macOS, try disabling the 'AirPlay Receiver' service from System Preferences -> Sharing.\n"
     ]
    },
    {
     "ename": "AssertionError",
     "evalue": "",
     "output_type": "error",
     "traceback": [
      "\u001b[0;31m---------------------------------------------------------------------------\u001b[0m",
      "\u001b[0;31mOSError\u001b[0m                                   Traceback (most recent call last)",
      "File \u001b[0;32m/opt/homebrew/lib/python3.10/site-packages/werkzeug/serving.py:911\u001b[0m, in \u001b[0;36mprepare_socket\u001b[0;34m(hostname, port)\u001b[0m\n\u001b[1;32m    <a href='file:///opt/homebrew/lib/python3.10/site-packages/werkzeug/serving.py?line=909'>910</a>\u001b[0m \u001b[39mtry\u001b[39;00m:\n\u001b[0;32m--> <a href='file:///opt/homebrew/lib/python3.10/site-packages/werkzeug/serving.py?line=910'>911</a>\u001b[0m     s\u001b[39m.\u001b[39;49mbind(server_address)\n\u001b[1;32m    <a href='file:///opt/homebrew/lib/python3.10/site-packages/werkzeug/serving.py?line=911'>912</a>\u001b[0m \u001b[39mexcept\u001b[39;00m \u001b[39mOSError\u001b[39;00m \u001b[39mas\u001b[39;00m e:\n",
      "\u001b[0;31mOSError\u001b[0m: [Errno 48] Address already in use",
      "\nDuring handling of the above exception, another exception occurred:\n",
      "\u001b[0;31mSystemExit\u001b[0m                                Traceback (most recent call last)",
      "    \u001b[0;31m[... skipping hidden 1 frame]\u001b[0m\n",
      "Cell \u001b[0;32mIn [2], line 53\u001b[0m\n\u001b[1;32m     50\u001b[0m     \u001b[38;5;28;01mreturn\u001b[39;00m response\u001b[38;5;241m.\u001b[39mtext\n\u001b[0;32m---> 53\u001b[0m \u001b[43mapp\u001b[49m\u001b[38;5;241;43m.\u001b[39;49m\u001b[43mrun\u001b[49m\u001b[43m(\u001b[49m\u001b[43m)\u001b[49m\n",
      "File \u001b[0;32m/opt/homebrew/lib/python3.10/site-packages/flask/app.py:1188\u001b[0m, in \u001b[0;36mFlask.run\u001b[0;34m(self, host, port, debug, load_dotenv, **options)\u001b[0m\n\u001b[1;32m   <a href='file:///opt/homebrew/lib/python3.10/site-packages/flask/app.py?line=1186'>1187</a>\u001b[0m \u001b[39mtry\u001b[39;00m:\n\u001b[0;32m-> <a href='file:///opt/homebrew/lib/python3.10/site-packages/flask/app.py?line=1187'>1188</a>\u001b[0m     run_simple(t\u001b[39m.\u001b[39;49mcast(\u001b[39mstr\u001b[39;49m, host), port, \u001b[39mself\u001b[39;49m, \u001b[39m*\u001b[39;49m\u001b[39m*\u001b[39;49moptions)\n\u001b[1;32m   <a href='file:///opt/homebrew/lib/python3.10/site-packages/flask/app.py?line=1188'>1189</a>\u001b[0m \u001b[39mfinally\u001b[39;00m:\n\u001b[1;32m   <a href='file:///opt/homebrew/lib/python3.10/site-packages/flask/app.py?line=1189'>1190</a>\u001b[0m     \u001b[39m# reset the first request information if the development server\u001b[39;00m\n\u001b[1;32m   <a href='file:///opt/homebrew/lib/python3.10/site-packages/flask/app.py?line=1190'>1191</a>\u001b[0m     \u001b[39m# reset normally.  This makes it possible to restart the server\u001b[39;00m\n\u001b[1;32m   <a href='file:///opt/homebrew/lib/python3.10/site-packages/flask/app.py?line=1191'>1192</a>\u001b[0m     \u001b[39m# without reloader and that stuff from an interactive shell.\u001b[39;00m\n",
      "File \u001b[0;32m/opt/homebrew/lib/python3.10/site-packages/werkzeug/serving.py:1062\u001b[0m, in \u001b[0;36mrun_simple\u001b[0;34m(hostname, port, application, use_reloader, use_debugger, use_evalex, extra_files, exclude_patterns, reloader_interval, reloader_type, threaded, processes, request_handler, static_files, passthrough_errors, ssl_context)\u001b[0m\n\u001b[1;32m   <a href='file:///opt/homebrew/lib/python3.10/site-packages/werkzeug/serving.py?line=1060'>1061</a>\u001b[0m \u001b[39mif\u001b[39;00m \u001b[39mnot\u001b[39;00m is_running_from_reloader():\n\u001b[0;32m-> <a href='file:///opt/homebrew/lib/python3.10/site-packages/werkzeug/serving.py?line=1061'>1062</a>\u001b[0m     s \u001b[39m=\u001b[39m prepare_socket(hostname, port)\n\u001b[1;32m   <a href='file:///opt/homebrew/lib/python3.10/site-packages/werkzeug/serving.py?line=1062'>1063</a>\u001b[0m     fd \u001b[39m=\u001b[39m s\u001b[39m.\u001b[39mfileno()\n",
      "File \u001b[0;32m/opt/homebrew/lib/python3.10/site-packages/werkzeug/serving.py:930\u001b[0m, in \u001b[0;36mprepare_socket\u001b[0;34m(hostname, port)\u001b[0m\n\u001b[1;32m    <a href='file:///opt/homebrew/lib/python3.10/site-packages/werkzeug/serving.py?line=923'>924</a>\u001b[0m             \u001b[39mprint\u001b[39m(\n\u001b[1;32m    <a href='file:///opt/homebrew/lib/python3.10/site-packages/werkzeug/serving.py?line=924'>925</a>\u001b[0m                 \u001b[39m\"\u001b[39m\u001b[39mOn macOS, try disabling the \u001b[39m\u001b[39m'\u001b[39m\u001b[39mAirPlay Receiver\u001b[39m\u001b[39m'\u001b[39m\u001b[39m\"\u001b[39m\n\u001b[1;32m    <a href='file:///opt/homebrew/lib/python3.10/site-packages/werkzeug/serving.py?line=925'>926</a>\u001b[0m                 \u001b[39m\"\u001b[39m\u001b[39m service from System Preferences -> Sharing.\u001b[39m\u001b[39m\"\u001b[39m,\n\u001b[1;32m    <a href='file:///opt/homebrew/lib/python3.10/site-packages/werkzeug/serving.py?line=926'>927</a>\u001b[0m                 file\u001b[39m=\u001b[39msys\u001b[39m.\u001b[39mstderr,\n\u001b[1;32m    <a href='file:///opt/homebrew/lib/python3.10/site-packages/werkzeug/serving.py?line=927'>928</a>\u001b[0m             )\n\u001b[0;32m--> <a href='file:///opt/homebrew/lib/python3.10/site-packages/werkzeug/serving.py?line=929'>930</a>\u001b[0m     sys\u001b[39m.\u001b[39;49mexit(\u001b[39m1\u001b[39;49m)\n\u001b[1;32m    <a href='file:///opt/homebrew/lib/python3.10/site-packages/werkzeug/serving.py?line=931'>932</a>\u001b[0m s\u001b[39m.\u001b[39mlisten(LISTEN_QUEUE)\n",
      "\u001b[0;31mSystemExit\u001b[0m: 1",
      "\nDuring handling of the above exception, another exception occurred:\n",
      "\u001b[0;31mAssertionError\u001b[0m                            Traceback (most recent call last)",
      "    \u001b[0;31m[... skipping hidden 1 frame]\u001b[0m\n",
      "File \u001b[0;32m/opt/homebrew/lib/python3.10/site-packages/IPython/core/interactiveshell.py:1987\u001b[0m, in \u001b[0;36mInteractiveShell.showtraceback\u001b[0;34m(self, exc_tuple, filename, tb_offset, exception_only, running_compiled_code)\u001b[0m\n\u001b[1;32m   <a href='file:///opt/homebrew/lib/python3.10/site-packages/IPython/core/interactiveshell.py?line=1983'>1984</a>\u001b[0m \u001b[39mif\u001b[39;00m exception_only:\n\u001b[1;32m   <a href='file:///opt/homebrew/lib/python3.10/site-packages/IPython/core/interactiveshell.py?line=1984'>1985</a>\u001b[0m     stb \u001b[39m=\u001b[39m [\u001b[39m'\u001b[39m\u001b[39mAn exception has occurred, use \u001b[39m\u001b[39m%\u001b[39m\u001b[39mtb to see \u001b[39m\u001b[39m'\u001b[39m\n\u001b[1;32m   <a href='file:///opt/homebrew/lib/python3.10/site-packages/IPython/core/interactiveshell.py?line=1985'>1986</a>\u001b[0m            \u001b[39m'\u001b[39m\u001b[39mthe full traceback.\u001b[39m\u001b[39m\\n\u001b[39;00m\u001b[39m'\u001b[39m]\n\u001b[0;32m-> <a href='file:///opt/homebrew/lib/python3.10/site-packages/IPython/core/interactiveshell.py?line=1986'>1987</a>\u001b[0m     stb\u001b[39m.\u001b[39mextend(\u001b[39mself\u001b[39;49m\u001b[39m.\u001b[39;49mInteractiveTB\u001b[39m.\u001b[39;49mget_exception_only(etype,\n\u001b[1;32m   <a href='file:///opt/homebrew/lib/python3.10/site-packages/IPython/core/interactiveshell.py?line=1987'>1988</a>\u001b[0m                                                      value))\n\u001b[1;32m   <a href='file:///opt/homebrew/lib/python3.10/site-packages/IPython/core/interactiveshell.py?line=1988'>1989</a>\u001b[0m \u001b[39melse\u001b[39;00m:\n\u001b[1;32m   <a href='file:///opt/homebrew/lib/python3.10/site-packages/IPython/core/interactiveshell.py?line=1989'>1990</a>\u001b[0m     \u001b[39mtry\u001b[39;00m:\n\u001b[1;32m   <a href='file:///opt/homebrew/lib/python3.10/site-packages/IPython/core/interactiveshell.py?line=1990'>1991</a>\u001b[0m         \u001b[39m# Exception classes can customise their traceback - we\u001b[39;00m\n\u001b[1;32m   <a href='file:///opt/homebrew/lib/python3.10/site-packages/IPython/core/interactiveshell.py?line=1991'>1992</a>\u001b[0m         \u001b[39m# use this in IPython.parallel for exceptions occurring\u001b[39;00m\n\u001b[1;32m   <a href='file:///opt/homebrew/lib/python3.10/site-packages/IPython/core/interactiveshell.py?line=1992'>1993</a>\u001b[0m         \u001b[39m# in the engines. This should return a list of strings.\u001b[39;00m\n",
      "File \u001b[0;32m/opt/homebrew/lib/python3.10/site-packages/IPython/core/ultratb.py:579\u001b[0m, in \u001b[0;36mListTB.get_exception_only\u001b[0;34m(self, etype, value)\u001b[0m\n\u001b[1;32m    <a href='file:///opt/homebrew/lib/python3.10/site-packages/IPython/core/ultratb.py?line=570'>571</a>\u001b[0m \u001b[39mdef\u001b[39;00m \u001b[39mget_exception_only\u001b[39m(\u001b[39mself\u001b[39m, etype, value):\n\u001b[1;32m    <a href='file:///opt/homebrew/lib/python3.10/site-packages/IPython/core/ultratb.py?line=571'>572</a>\u001b[0m     \u001b[39m\"\"\"Only print the exception type and message, without a traceback.\u001b[39;00m\n\u001b[1;32m    <a href='file:///opt/homebrew/lib/python3.10/site-packages/IPython/core/ultratb.py?line=572'>573</a>\u001b[0m \n\u001b[1;32m    <a href='file:///opt/homebrew/lib/python3.10/site-packages/IPython/core/ultratb.py?line=573'>574</a>\u001b[0m \u001b[39m    Parameters\u001b[39;00m\n\u001b[0;32m   (...)\u001b[0m\n\u001b[1;32m    <a href='file:///opt/homebrew/lib/python3.10/site-packages/IPython/core/ultratb.py?line=576'>577</a>\u001b[0m \u001b[39m    value : exception value\u001b[39;00m\n\u001b[1;32m    <a href='file:///opt/homebrew/lib/python3.10/site-packages/IPython/core/ultratb.py?line=577'>578</a>\u001b[0m \u001b[39m    \"\"\"\u001b[39;00m\n\u001b[0;32m--> <a href='file:///opt/homebrew/lib/python3.10/site-packages/IPython/core/ultratb.py?line=578'>579</a>\u001b[0m     \u001b[39mreturn\u001b[39;00m ListTB\u001b[39m.\u001b[39;49mstructured_traceback(\u001b[39mself\u001b[39;49m, etype, value)\n",
      "File \u001b[0;32m/opt/homebrew/lib/python3.10/site-packages/IPython/core/ultratb.py:446\u001b[0m, in \u001b[0;36mListTB.structured_traceback\u001b[0;34m(self, etype, evalue, etb, tb_offset, context)\u001b[0m\n\u001b[1;32m    <a href='file:///opt/homebrew/lib/python3.10/site-packages/IPython/core/ultratb.py?line=442'>443</a>\u001b[0m     chained_exc_ids\u001b[39m.\u001b[39madd(\u001b[39mid\u001b[39m(exception[\u001b[39m1\u001b[39m]))\n\u001b[1;32m    <a href='file:///opt/homebrew/lib/python3.10/site-packages/IPython/core/ultratb.py?line=443'>444</a>\u001b[0m     chained_exceptions_tb_offset \u001b[39m=\u001b[39m \u001b[39m0\u001b[39m\n\u001b[1;32m    <a href='file:///opt/homebrew/lib/python3.10/site-packages/IPython/core/ultratb.py?line=444'>445</a>\u001b[0m     out_list \u001b[39m=\u001b[39m (\n\u001b[0;32m--> <a href='file:///opt/homebrew/lib/python3.10/site-packages/IPython/core/ultratb.py?line=445'>446</a>\u001b[0m         \u001b[39mself\u001b[39;49m\u001b[39m.\u001b[39;49mstructured_traceback(\n\u001b[1;32m    <a href='file:///opt/homebrew/lib/python3.10/site-packages/IPython/core/ultratb.py?line=446'>447</a>\u001b[0m             etype, evalue, (etb, chained_exc_ids),\n\u001b[1;32m    <a href='file:///opt/homebrew/lib/python3.10/site-packages/IPython/core/ultratb.py?line=447'>448</a>\u001b[0m             chained_exceptions_tb_offset, context)\n\u001b[1;32m    <a href='file:///opt/homebrew/lib/python3.10/site-packages/IPython/core/ultratb.py?line=448'>449</a>\u001b[0m         \u001b[39m+\u001b[39m chained_exception_message\n\u001b[1;32m    <a href='file:///opt/homebrew/lib/python3.10/site-packages/IPython/core/ultratb.py?line=449'>450</a>\u001b[0m         \u001b[39m+\u001b[39m out_list)\n\u001b[1;32m    <a href='file:///opt/homebrew/lib/python3.10/site-packages/IPython/core/ultratb.py?line=451'>452</a>\u001b[0m \u001b[39mreturn\u001b[39;00m out_list\n",
      "File \u001b[0;32m/opt/homebrew/lib/python3.10/site-packages/IPython/core/ultratb.py:1112\u001b[0m, in \u001b[0;36mAutoFormattedTB.structured_traceback\u001b[0;34m(self, etype, value, tb, tb_offset, number_of_lines_of_context)\u001b[0m\n\u001b[1;32m   <a href='file:///opt/homebrew/lib/python3.10/site-packages/IPython/core/ultratb.py?line=1109'>1110</a>\u001b[0m \u001b[39melse\u001b[39;00m:\n\u001b[1;32m   <a href='file:///opt/homebrew/lib/python3.10/site-packages/IPython/core/ultratb.py?line=1110'>1111</a>\u001b[0m     \u001b[39mself\u001b[39m\u001b[39m.\u001b[39mtb \u001b[39m=\u001b[39m tb\n\u001b[0;32m-> <a href='file:///opt/homebrew/lib/python3.10/site-packages/IPython/core/ultratb.py?line=1111'>1112</a>\u001b[0m \u001b[39mreturn\u001b[39;00m FormattedTB\u001b[39m.\u001b[39;49mstructured_traceback(\n\u001b[1;32m   <a href='file:///opt/homebrew/lib/python3.10/site-packages/IPython/core/ultratb.py?line=1112'>1113</a>\u001b[0m     \u001b[39mself\u001b[39;49m, etype, value, tb, tb_offset, number_of_lines_of_context)\n",
      "File \u001b[0;32m/opt/homebrew/lib/python3.10/site-packages/IPython/core/ultratb.py:1006\u001b[0m, in \u001b[0;36mFormattedTB.structured_traceback\u001b[0;34m(self, etype, value, tb, tb_offset, number_of_lines_of_context)\u001b[0m\n\u001b[1;32m   <a href='file:///opt/homebrew/lib/python3.10/site-packages/IPython/core/ultratb.py?line=1002'>1003</a>\u001b[0m mode \u001b[39m=\u001b[39m \u001b[39mself\u001b[39m\u001b[39m.\u001b[39mmode\n\u001b[1;32m   <a href='file:///opt/homebrew/lib/python3.10/site-packages/IPython/core/ultratb.py?line=1003'>1004</a>\u001b[0m \u001b[39mif\u001b[39;00m mode \u001b[39min\u001b[39;00m \u001b[39mself\u001b[39m\u001b[39m.\u001b[39mverbose_modes:\n\u001b[1;32m   <a href='file:///opt/homebrew/lib/python3.10/site-packages/IPython/core/ultratb.py?line=1004'>1005</a>\u001b[0m     \u001b[39m# Verbose modes need a full traceback\u001b[39;00m\n\u001b[0;32m-> <a href='file:///opt/homebrew/lib/python3.10/site-packages/IPython/core/ultratb.py?line=1005'>1006</a>\u001b[0m     \u001b[39mreturn\u001b[39;00m VerboseTB\u001b[39m.\u001b[39;49mstructured_traceback(\n\u001b[1;32m   <a href='file:///opt/homebrew/lib/python3.10/site-packages/IPython/core/ultratb.py?line=1006'>1007</a>\u001b[0m         \u001b[39mself\u001b[39;49m, etype, value, tb, tb_offset, number_of_lines_of_context\n\u001b[1;32m   <a href='file:///opt/homebrew/lib/python3.10/site-packages/IPython/core/ultratb.py?line=1007'>1008</a>\u001b[0m     )\n\u001b[1;32m   <a href='file:///opt/homebrew/lib/python3.10/site-packages/IPython/core/ultratb.py?line=1008'>1009</a>\u001b[0m \u001b[39melif\u001b[39;00m mode \u001b[39m==\u001b[39m \u001b[39m'\u001b[39m\u001b[39mMinimal\u001b[39m\u001b[39m'\u001b[39m:\n\u001b[1;32m   <a href='file:///opt/homebrew/lib/python3.10/site-packages/IPython/core/ultratb.py?line=1009'>1010</a>\u001b[0m     \u001b[39mreturn\u001b[39;00m ListTB\u001b[39m.\u001b[39mget_exception_only(\u001b[39mself\u001b[39m, etype, value)\n",
      "File \u001b[0;32m/opt/homebrew/lib/python3.10/site-packages/IPython/core/ultratb.py:859\u001b[0m, in \u001b[0;36mVerboseTB.structured_traceback\u001b[0;34m(self, etype, evalue, etb, tb_offset, number_of_lines_of_context)\u001b[0m\n\u001b[1;32m    <a href='file:///opt/homebrew/lib/python3.10/site-packages/IPython/core/ultratb.py?line=849'>850</a>\u001b[0m \u001b[39mdef\u001b[39;00m \u001b[39mstructured_traceback\u001b[39m(\n\u001b[1;32m    <a href='file:///opt/homebrew/lib/python3.10/site-packages/IPython/core/ultratb.py?line=850'>851</a>\u001b[0m     \u001b[39mself\u001b[39m,\n\u001b[1;32m    <a href='file:///opt/homebrew/lib/python3.10/site-packages/IPython/core/ultratb.py?line=851'>852</a>\u001b[0m     etype: \u001b[39mtype\u001b[39m,\n\u001b[0;32m   (...)\u001b[0m\n\u001b[1;32m    <a href='file:///opt/homebrew/lib/python3.10/site-packages/IPython/core/ultratb.py?line=855'>856</a>\u001b[0m     number_of_lines_of_context: \u001b[39mint\u001b[39m \u001b[39m=\u001b[39m \u001b[39m5\u001b[39m,\n\u001b[1;32m    <a href='file:///opt/homebrew/lib/python3.10/site-packages/IPython/core/ultratb.py?line=856'>857</a>\u001b[0m ):\n\u001b[1;32m    <a href='file:///opt/homebrew/lib/python3.10/site-packages/IPython/core/ultratb.py?line=857'>858</a>\u001b[0m     \u001b[39m\"\"\"Return a nice text document describing the traceback.\"\"\"\u001b[39;00m\n\u001b[0;32m--> <a href='file:///opt/homebrew/lib/python3.10/site-packages/IPython/core/ultratb.py?line=858'>859</a>\u001b[0m     formatted_exception \u001b[39m=\u001b[39m \u001b[39mself\u001b[39;49m\u001b[39m.\u001b[39;49mformat_exception_as_a_whole(etype, evalue, etb, number_of_lines_of_context,\n\u001b[1;32m    <a href='file:///opt/homebrew/lib/python3.10/site-packages/IPython/core/ultratb.py?line=859'>860</a>\u001b[0m                                                            tb_offset)\n\u001b[1;32m    <a href='file:///opt/homebrew/lib/python3.10/site-packages/IPython/core/ultratb.py?line=861'>862</a>\u001b[0m     colors \u001b[39m=\u001b[39m \u001b[39mself\u001b[39m\u001b[39m.\u001b[39mColors  \u001b[39m# just a shorthand + quicker name lookup\u001b[39;00m\n\u001b[1;32m    <a href='file:///opt/homebrew/lib/python3.10/site-packages/IPython/core/ultratb.py?line=862'>863</a>\u001b[0m     colorsnormal \u001b[39m=\u001b[39m colors\u001b[39m.\u001b[39mNormal  \u001b[39m# used a lot\u001b[39;00m\n",
      "File \u001b[0;32m/opt/homebrew/lib/python3.10/site-packages/IPython/core/ultratb.py:793\u001b[0m, in \u001b[0;36mVerboseTB.format_exception_as_a_whole\u001b[0;34m(self, etype, evalue, etb, number_of_lines_of_context, tb_offset)\u001b[0m\n\u001b[1;32m    <a href='file:///opt/homebrew/lib/python3.10/site-packages/IPython/core/ultratb.py?line=789'>790</a>\u001b[0m \u001b[39massert\u001b[39;00m \u001b[39misinstance\u001b[39m(tb_offset, \u001b[39mint\u001b[39m)\n\u001b[1;32m    <a href='file:///opt/homebrew/lib/python3.10/site-packages/IPython/core/ultratb.py?line=790'>791</a>\u001b[0m head \u001b[39m=\u001b[39m \u001b[39mself\u001b[39m\u001b[39m.\u001b[39mprepare_header(etype, \u001b[39mself\u001b[39m\u001b[39m.\u001b[39mlong_header)\n\u001b[1;32m    <a href='file:///opt/homebrew/lib/python3.10/site-packages/IPython/core/ultratb.py?line=791'>792</a>\u001b[0m records \u001b[39m=\u001b[39m (\n\u001b[0;32m--> <a href='file:///opt/homebrew/lib/python3.10/site-packages/IPython/core/ultratb.py?line=792'>793</a>\u001b[0m     \u001b[39mself\u001b[39;49m\u001b[39m.\u001b[39;49mget_records(etb, number_of_lines_of_context, tb_offset) \u001b[39mif\u001b[39;00m etb \u001b[39melse\u001b[39;00m []\n\u001b[1;32m    <a href='file:///opt/homebrew/lib/python3.10/site-packages/IPython/core/ultratb.py?line=793'>794</a>\u001b[0m )\n\u001b[1;32m    <a href='file:///opt/homebrew/lib/python3.10/site-packages/IPython/core/ultratb.py?line=795'>796</a>\u001b[0m frames \u001b[39m=\u001b[39m []\n\u001b[1;32m    <a href='file:///opt/homebrew/lib/python3.10/site-packages/IPython/core/ultratb.py?line=796'>797</a>\u001b[0m skipped \u001b[39m=\u001b[39m \u001b[39m0\u001b[39m\n",
      "File \u001b[0;32m/opt/homebrew/lib/python3.10/site-packages/IPython/core/ultratb.py:848\u001b[0m, in \u001b[0;36mVerboseTB.get_records\u001b[0;34m(self, etb, number_of_lines_of_context, tb_offset)\u001b[0m\n\u001b[1;32m    <a href='file:///opt/homebrew/lib/python3.10/site-packages/IPython/core/ultratb.py?line=841'>842</a>\u001b[0m     formatter \u001b[39m=\u001b[39m \u001b[39mNone\u001b[39;00m\n\u001b[1;32m    <a href='file:///opt/homebrew/lib/python3.10/site-packages/IPython/core/ultratb.py?line=842'>843</a>\u001b[0m options \u001b[39m=\u001b[39m stack_data\u001b[39m.\u001b[39mOptions(\n\u001b[1;32m    <a href='file:///opt/homebrew/lib/python3.10/site-packages/IPython/core/ultratb.py?line=843'>844</a>\u001b[0m     before\u001b[39m=\u001b[39mbefore,\n\u001b[1;32m    <a href='file:///opt/homebrew/lib/python3.10/site-packages/IPython/core/ultratb.py?line=844'>845</a>\u001b[0m     after\u001b[39m=\u001b[39mafter,\n\u001b[1;32m    <a href='file:///opt/homebrew/lib/python3.10/site-packages/IPython/core/ultratb.py?line=845'>846</a>\u001b[0m     pygments_formatter\u001b[39m=\u001b[39mformatter,\n\u001b[1;32m    <a href='file:///opt/homebrew/lib/python3.10/site-packages/IPython/core/ultratb.py?line=846'>847</a>\u001b[0m )\n\u001b[0;32m--> <a href='file:///opt/homebrew/lib/python3.10/site-packages/IPython/core/ultratb.py?line=847'>848</a>\u001b[0m \u001b[39mreturn\u001b[39;00m \u001b[39mlist\u001b[39;49m(stack_data\u001b[39m.\u001b[39;49mFrameInfo\u001b[39m.\u001b[39;49mstack_data(etb, options\u001b[39m=\u001b[39;49moptions))[tb_offset:]\n",
      "File \u001b[0;32m/opt/homebrew/lib/python3.10/site-packages/stack_data/core.py:578\u001b[0m, in \u001b[0;36mFrameInfo.stack_data\u001b[0;34m(cls, frame_or_tb, options, collapse_repeated_frames)\u001b[0m\n\u001b[1;32m    <a href='file:///opt/homebrew/lib/python3.10/site-packages/stack_data/core.py?line=561'>562</a>\u001b[0m \u001b[39m@classmethod\u001b[39m\n\u001b[1;32m    <a href='file:///opt/homebrew/lib/python3.10/site-packages/stack_data/core.py?line=562'>563</a>\u001b[0m \u001b[39mdef\u001b[39;00m \u001b[39mstack_data\u001b[39m(\n\u001b[1;32m    <a href='file:///opt/homebrew/lib/python3.10/site-packages/stack_data/core.py?line=563'>564</a>\u001b[0m         \u001b[39mcls\u001b[39m,\n\u001b[0;32m   (...)\u001b[0m\n\u001b[1;32m    <a href='file:///opt/homebrew/lib/python3.10/site-packages/stack_data/core.py?line=567'>568</a>\u001b[0m         collapse_repeated_frames: \u001b[39mbool\u001b[39m \u001b[39m=\u001b[39m \u001b[39mTrue\u001b[39;00m\n\u001b[1;32m    <a href='file:///opt/homebrew/lib/python3.10/site-packages/stack_data/core.py?line=568'>569</a>\u001b[0m ) \u001b[39m-\u001b[39m\u001b[39m>\u001b[39m Iterator[Union[\u001b[39m'\u001b[39m\u001b[39mFrameInfo\u001b[39m\u001b[39m'\u001b[39m, RepeatedFrames]]:\n\u001b[1;32m    <a href='file:///opt/homebrew/lib/python3.10/site-packages/stack_data/core.py?line=569'>570</a>\u001b[0m     \u001b[39m\"\"\"\u001b[39;00m\n\u001b[1;32m    <a href='file:///opt/homebrew/lib/python3.10/site-packages/stack_data/core.py?line=570'>571</a>\u001b[0m \u001b[39m    An iterator of FrameInfo and RepeatedFrames objects representing\u001b[39;00m\n\u001b[1;32m    <a href='file:///opt/homebrew/lib/python3.10/site-packages/stack_data/core.py?line=571'>572</a>\u001b[0m \u001b[39m    a full traceback or stack. Similar consecutive frames are collapsed into RepeatedFrames\u001b[39;00m\n\u001b[0;32m   (...)\u001b[0m\n\u001b[1;32m    <a href='file:///opt/homebrew/lib/python3.10/site-packages/stack_data/core.py?line=575'>576</a>\u001b[0m \u001b[39m    and optionally an Options object to configure.\u001b[39;00m\n\u001b[1;32m    <a href='file:///opt/homebrew/lib/python3.10/site-packages/stack_data/core.py?line=576'>577</a>\u001b[0m \u001b[39m    \"\"\"\u001b[39;00m\n\u001b[0;32m--> <a href='file:///opt/homebrew/lib/python3.10/site-packages/stack_data/core.py?line=577'>578</a>\u001b[0m     stack \u001b[39m=\u001b[39m \u001b[39mlist\u001b[39;49m(iter_stack(frame_or_tb))\n\u001b[1;32m    <a href='file:///opt/homebrew/lib/python3.10/site-packages/stack_data/core.py?line=579'>580</a>\u001b[0m     \u001b[39m# Reverse the stack from a frame so that it's in the same order\u001b[39;00m\n\u001b[1;32m    <a href='file:///opt/homebrew/lib/python3.10/site-packages/stack_data/core.py?line=580'>581</a>\u001b[0m     \u001b[39m# as the order from a traceback, which is the order of a printed\u001b[39;00m\n\u001b[1;32m    <a href='file:///opt/homebrew/lib/python3.10/site-packages/stack_data/core.py?line=581'>582</a>\u001b[0m     \u001b[39m# traceback when read top to bottom (most recent call last)\u001b[39;00m\n\u001b[1;32m    <a href='file:///opt/homebrew/lib/python3.10/site-packages/stack_data/core.py?line=582'>583</a>\u001b[0m     \u001b[39mif\u001b[39;00m is_frame(frame_or_tb):\n",
      "File \u001b[0;32m/opt/homebrew/lib/python3.10/site-packages/stack_data/utils.py:98\u001b[0m, in \u001b[0;36miter_stack\u001b[0;34m(frame_or_tb)\u001b[0m\n\u001b[1;32m     <a href='file:///opt/homebrew/lib/python3.10/site-packages/stack_data/utils.py?line=95'>96</a>\u001b[0m \u001b[39mwhile\u001b[39;00m frame_or_tb:\n\u001b[1;32m     <a href='file:///opt/homebrew/lib/python3.10/site-packages/stack_data/utils.py?line=96'>97</a>\u001b[0m     \u001b[39myield\u001b[39;00m frame_or_tb\n\u001b[0;32m---> <a href='file:///opt/homebrew/lib/python3.10/site-packages/stack_data/utils.py?line=97'>98</a>\u001b[0m     \u001b[39mif\u001b[39;00m is_frame(frame_or_tb):\n\u001b[1;32m     <a href='file:///opt/homebrew/lib/python3.10/site-packages/stack_data/utils.py?line=98'>99</a>\u001b[0m         frame_or_tb \u001b[39m=\u001b[39m frame_or_tb\u001b[39m.\u001b[39mf_back\n\u001b[1;32m    <a href='file:///opt/homebrew/lib/python3.10/site-packages/stack_data/utils.py?line=99'>100</a>\u001b[0m     \u001b[39melse\u001b[39;00m:\n",
      "File \u001b[0;32m/opt/homebrew/lib/python3.10/site-packages/stack_data/utils.py:91\u001b[0m, in \u001b[0;36mis_frame\u001b[0;34m(frame_or_tb)\u001b[0m\n\u001b[1;32m     <a href='file:///opt/homebrew/lib/python3.10/site-packages/stack_data/utils.py?line=89'>90</a>\u001b[0m \u001b[39mdef\u001b[39;00m \u001b[39mis_frame\u001b[39m(frame_or_tb: Union[FrameType, TracebackType]) \u001b[39m-\u001b[39m\u001b[39m>\u001b[39m \u001b[39mbool\u001b[39m:\n\u001b[0;32m---> <a href='file:///opt/homebrew/lib/python3.10/site-packages/stack_data/utils.py?line=90'>91</a>\u001b[0m     assert_(\u001b[39misinstance\u001b[39;49m(frame_or_tb, (types\u001b[39m.\u001b[39;49mFrameType, types\u001b[39m.\u001b[39;49mTracebackType)))\n\u001b[1;32m     <a href='file:///opt/homebrew/lib/python3.10/site-packages/stack_data/utils.py?line=91'>92</a>\u001b[0m     \u001b[39mreturn\u001b[39;00m \u001b[39misinstance\u001b[39m(frame_or_tb, (types\u001b[39m.\u001b[39mFrameType,))\n",
      "File \u001b[0;32m/opt/homebrew/lib/python3.10/site-packages/stack_data/utils.py:172\u001b[0m, in \u001b[0;36massert_\u001b[0;34m(condition, error)\u001b[0m\n\u001b[1;32m    <a href='file:///opt/homebrew/lib/python3.10/site-packages/stack_data/utils.py?line=169'>170</a>\u001b[0m \u001b[39mif\u001b[39;00m \u001b[39misinstance\u001b[39m(error, \u001b[39mstr\u001b[39m):\n\u001b[1;32m    <a href='file:///opt/homebrew/lib/python3.10/site-packages/stack_data/utils.py?line=170'>171</a>\u001b[0m     error \u001b[39m=\u001b[39m \u001b[39mAssertionError\u001b[39;00m(error)\n\u001b[0;32m--> <a href='file:///opt/homebrew/lib/python3.10/site-packages/stack_data/utils.py?line=171'>172</a>\u001b[0m \u001b[39mraise\u001b[39;00m error\n",
      "\u001b[0;31mAssertionError\u001b[0m: "
     ]
    },
    {
     "ename": "",
     "evalue": "",
     "output_type": "error",
     "traceback": [
      "\u001b[1;31mThe Kernel crashed while executing code in the the current cell or a previous cell. Please review the code in the cell(s) to identify a possible cause of the failure. Click <a href='https://aka.ms/vscodeJupyterKernelCrash'>here</a> for more info. View Jupyter <a href='command:jupyter.viewOutput'>log</a> for further details."
     ]
    }
   ],
   "source": [
    "import requests\n",
    "from flask import Flask, request\n",
    "from flask_cors import CORS\n",
    "import pandas as pd\n",
    "import numpy as np\n",
    "\n",
    "app = Flask(__name__)\n",
    "CORS(app)\n",
    "\n",
    "df = pd.DataFrame()\n",
    "\n",
    "@app.route('/recommendations', methods=['POST'])\n",
    "def recommendations():\n",
    "    genre_in = []\n",
    "    genre_in.append(request.get_data().decode('utf-8'))\n",
    "    for x in genre_in:\n",
    "        print(x)\n",
    "    query = '''\n",
    "    query ($page: Int, $perPage: Int, $genre_in: [String]) {\n",
    "        Page (page: $page, perPage: $perPage) {\n",
    "            pageInfo {\n",
    "                total\n",
    "                perPage\n",
    "            }\n",
    "            media (genre_in: $genre_in) {\n",
    "                id\n",
    "                title {\n",
    "                    romaji\n",
    "                }\n",
    "                genres\n",
    "                popularity\n",
    "                coverImage {\n",
    "                    large\n",
    "                }\n",
    "            }\n",
    "        }\n",
    "    }\n",
    "    '''\n",
    "    variables = {\n",
    "    'genre_in': genre_in,\n",
    "    'page': 1,\n",
    "    'perPage': 20,\n",
    "    \n",
    "    }\n",
    "    url = 'https://graphql.anilist.co'\n",
    "\n",
    "    response = requests.post(url, json={'query': query, 'variables': variables})\n",
    "    df = pd.DataFrame(response.json()).data.Page['media']\n",
    "    print(df)\n",
    "    return response.text\n",
    "\n",
    "\n",
    "app.run()"
   ]
  }
 ],
 "metadata": {
  "interpreter": {
   "hash": "b0fa6594d8f4cbf19f97940f81e996739fb7646882a419484c72d19e05852a7e"
  },
  "kernelspec": {
   "display_name": "Python 3.10.6 64-bit",
   "language": "python",
   "name": "python3"
  },
  "language_info": {
   "codemirror_mode": {
    "name": "ipython",
    "version": 3
   },
   "file_extension": ".py",
   "mimetype": "text/x-python",
   "name": "python",
   "nbconvert_exporter": "python",
   "pygments_lexer": "ipython3",
   "version": "3.10.6"
  },
  "orig_nbformat": 4
 },
 "nbformat": 4,
 "nbformat_minor": 2
}
